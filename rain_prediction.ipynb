{
 "cells": [
  {
   "cell_type": "code",
   "execution_count": null,
   "metadata": {},
   "outputs": [],
   "source": [
    "#you are running the lab in your  browser, so we will install the libraries using ``piplite``\n",
    "import piplite\n",
    "await piplite.install(['pandas'])\n",
    "await piplite.install(['numpy'])\n"
   ]
  },
  {
   "cell_type": "code",
   "execution_count": null,
   "metadata": {},
   "outputs": [],
   "source": [
    "\n",
    "import pandas as pd\n",
    "from sklearn.linear_model import LogisticRegression\n",
    "from sklearn.linear_model import LinearRegression\n",
    "from sklearn import preprocessing\n",
    "import numpy as np\n",
    "from sklearn.neighbors import KNeighborsClassifier\n",
    "from sklearn.model_selection import train_test_split\n",
    "from sklearn.neighbors import KNeighborsClassifier\n",
    "from sklearn.tree import DecisionTreeClassifier\n",
    "from sklearn import svm\n",
    "from sklearn.metrics import jaccard_score\n",
    "from sklearn.metrics import f1_score\n",
    "from sklearn.metrics import log_loss\n",
    "from sklearn.metrics import confusion_matrix, accuracy_score\n",
    "import sklearn.metrics as metrics"
   ]
  },
  {
   "cell_type": "code",
   "execution_count": null,
   "metadata": {},
   "outputs": [],
   "source": [
    "\n",
    "from pyodide.http import pyfetch\n",
    "\n",
    "async def download(url, filename):\n",
    "    response = await pyfetch(url)\n",
    "    if response.status == 200:\n",
    "        with open(filename, \"wb\") as f:\n",
    "            f.write(await response.bytes())"
   ]
  },
  {
   "cell_type": "code",
   "execution_count": null,
   "metadata": {},
   "outputs": [],
   "source": [
    "path='https://cf-courses-data.s3.us.cloud-object-storage.appdomain.cloud/IBMDeveloperSkillsNetwork-ML0101EN-SkillUp/labs/ML-FinalAssignment/Weather_Data.csv'"
   ]
  },
  {
   "cell_type": "code",
   "execution_count": null,
   "metadata": {},
   "outputs": [],
   "source": [
    "await download(path, \"Weather_Data.csv\")\n",
    "filename =\"Weather_Data.csv\""
   ]
  },
  {
   "cell_type": "code",
   "execution_count": null,
   "metadata": {},
   "outputs": [],
   "source": [
    "df = pd.read_csv(\"Weather_Data.csv\")\n",
    "df.head()"
   ]
  },
  {
   "cell_type": "code",
   "execution_count": null,
   "metadata": {},
   "outputs": [],
   "source": [
    "df_sydney_processed = pd.get_dummies(data=df, columns=['RainToday', 'WindGustDir', 'WindDir9am', 'WindDir3pm'])"
   ]
  },
  {
   "cell_type": "code",
   "execution_count": null,
   "metadata": {},
   "outputs": [],
   "source": [
    "df_sydney_processed.replace(['No', 'Yes'], [0,1], inplace=True)"
   ]
  },
  {
   "cell_type": "code",
   "execution_count": null,
   "metadata": {},
   "outputs": [],
   "source": [
    "df_sydney_processed.drop('Date',axis=1,inplace=True)"
   ]
  },
  {
   "cell_type": "code",
   "execution_count": null,
   "metadata": {},
   "outputs": [],
   "source": [
    "df_sydney_processed = df_sydney_processed.astype(float)"
   ]
  },
  {
   "cell_type": "code",
   "execution_count": null,
   "metadata": {},
   "outputs": [],
   "source": [
    "features = df_sydney_processed.drop(columns='RainTomorrow', axis=1)\n",
    "Y = df_sydney_processed['RainTomorrow']"
   ]
  },
  {
   "cell_type": "code",
   "execution_count": null,
   "metadata": {},
   "outputs": [],
   "source": [
    "#Enter Your Code, Execute and take the Screenshot\n",
    "from sklearn.model_selection import train_test_split\n",
    "\n",
    "# Assuming X is your features dataframe and Y is your target dataframe\n",
    "\n",
    "# Split the data\n",
    "X_train, X_test, Y_train, Y_test = train_test_split(X, Y, test_size=0.2, random_state=10)\n"
   ]
  },
  {
   "cell_type": "code",
   "execution_count": null,
   "metadata": {},
   "outputs": [],
   "source": [
    "#Enter Your Code, Execute and take the Screenshotimport numpy as np\n",
    "from sklearn.linear_model import LinearRegression\n",
    "\n",
    "# Assuming X_train and Y_train are already defined\n",
    "\n",
    "# Creating Linear Regression model\n",
    "LinearReg = LinearRegression()\n",
    "\n",
    "# Training the model\n",
    "LinearReg.fit(X_train, Y_train)"
   ]
  },
  {
   "cell_type": "code",
   "execution_count": null,
   "metadata": {},
   "outputs": [],
   "source": [
    "#Enter Your Code, Execute and take the Scpredictions = # Assuming LinearReg is already defined and trained, and X_test is available\n",
    "\n",
    "# Using the trained model to make predictions screenshotpredictions = LinearReg.predict(X_test)\n",
    "predictions = LinearReg.predict(X_test)"
   ]
  },
  {
   "cell_type": "code",
   "execution_count": null,
   "metadata": {},
   "outputs": [],
   "source": [
    "#Enter Your Code, Execute and # Calculate Mean Absolute Error (MAE)\n",
    "mae = np.mean(np.abs(predictions - Y_test))\n",
    "\n",
    "# Calculate Mean Squared Error (MSE)\n",
    "mse = np.mean((predictions - Y_test) ** 2)\n",
    "\n",
    "# Calculate R-squared (R2)\n",
    "ss_res = np.sum((Y_test - predictions) ** 2)\n",
    "ss_tot = np.sum((Y_test - np.mean(Y_test)) ** 2)\n",
    "r2 = 1 - (ss_res / ss_tot)\n",
    " # Creating a DataFrame to display the results\n",
    "results = pd.DataFrame({'Metric': ['Mean Absolute Error (MAE)', 'Mean Squared Error (MSE)', 'R-squared (R2)'],\n",
    "                        'Value': [mae, mse, r2]})\n",
    "print(results)"
   ]
  },
  {
   "cell_type": "code",
   "execution_count": null,
   "metadata": {},
   "outputs": [],
   "source": [
    "#Enter Your Codeimport pandas as pd\n",
    "from sklearn.metrics import mean_absolute_error, mean_squared_error, r2_score\n",
    "\n",
    "# Assuming Y_test and predictions are available\n",
    "\n",
    "# Calculating MAE, MSE, and R2\n",
    "mae = mean_absolute_error(Y_test, predictions)\n",
    "mse = mean_squared_error(Y_test, predictions)\n",
    "r2 = r2_score(Y_test, predictions), Execute and take the Screenshot\n",
    "results = pd.DataFrame({'Metric': ['Mean Absolute Error (MAE)', 'Mean Squared Error (MSE)', 'R-squared (R2)'],\n",
    "                        'Value': [mae, mse, r2]})\n",
    "print(results)"
   ]
  },
  {
   "cell_type": "code",
   "execution_count": null,
   "metadata": {},
   "outputs": [],
   "source": [
    "#Enter Your Code Below, Execfrom sklearn.neighbors import KNeighborsRegressor\n",
    "KNN = KNeighborsRegressor(n_neighbors=4)\n",
    "\n",
    "# Training the model\n",
    "KNN.fit(X_train, Y_train)\n",
    "\n",
    " \n",
    "# Output to confirm the training\n",
    "print(\"KNN model training completed successfully\")"
   ]
  },
  {
   "cell_type": "code",
   "execution_count": null,
   "metadata": {},
   "outputs": [],
   "source": [
    "#Enter Your Code Belo# Assuming KNN model is already trained and X_test is available\n",
    "\n",
    "# Using the trained model to make predictions\n",
    "predictions = KNN.predict(X_test)\n",
    "\n",
    "# Output to confirm the prediction\n",
    "print(\"Predictions made successfully.\")\n",
    "predictions = KNN.predict(X_test)\n",
    "\n",
    "# Output to confirm the prediction\n",
    "print(\"Predictions made successfully.\")"
   ]
  },
  {
   "cell_type": "code",
   "execution_count": null,
   "metadata": {},
   "outputs": [],
   "source": [
    "#Enter Your Code Belowfrom sklearn.metrics import mean_absolute_error, mean_squared_error, r2_score\n",
    "\n",
    "# Calculate Mean Absolute Error (MAE)\n",
    "mae = mean_absolute_error(Y_test, predictions)\n",
    "\n",
    "# Calculate Mean Squared Error (MSE)\n",
    "mse = mean_squared_error(Y_test, predictions)\n",
    "\n",
    "# Calculate R-squared (R2)\n",
    "r2 = r2_score(Y_test, predictions)\n",
    " # Output the results\n",
    "print(\"Mean Absolute Error (MAE):\", mae)\n",
    "print(\"Mean Squared Error (MSE):\", mse)\n",
    "print(\"R-squared (R2):\", r2)"
   ]
  },
  {
   "cell_type": "code",
   "execution_count": null,
   "metadata": {},
   "outputs": [],
   "source": [
    "#Enter Your Code, Execufrom sklearn.tree import DecisionTreeRegressor\n",
    "\n",
    "# Assuming X_train and Y_train are already defined\n",
    "\n",
    "# Creating Decision Tree model\n",
    " Tree = DecisionTreeRegressor()\n",
    "\n",
    "# Training the model\n",
    "Tree.fit(X_train, Y_train)"
   ]
  },
  {
   "cell_type": "code",
   "execution_count": null,
   "metadata": {},
   "outputs": [],
   "source": [
    "#Enter Your Code, Ex# Assuming Tree model is already trained and X_test is available\n",
    "\n",
    "# Using the trained model to make predictions\n",
    "predictions =  Tree.predict(X_test)\n"
   ]
  },
  {
   "cell_type": "code",
   "execution_count": null,
   "metadata": {},
   "outputs": [],
   "source": [
    "#Enter Your Code, Execfrom sklearn.metrics import mean_absolute_error, mean_squared_error, r2_score\n",
    "\n",
    "# Calculate Mean Absolute Error (MAE)\n",
    "mae = mean_absolute_error(Y_test, predictions)\n",
    "\n",
    "# Calculate Mean Squared Error (MSE)\n",
    "mse = mean_squared_error(Y_test, predictions)\n",
    "\n",
    "# Calculate R-squared (R2)\n",
    "r2 = r2_score(Y_test, predictions)\n",
    " # Output the results \n",
    "print(\"Mean Absolute Error (MAE):\", mae)\n",
    "print(\"Mean Squared Error (MSE):\", mse)\n",
    "print(\"R-squared (R2):\", r2)"
   ]
  },
  {
   "cell_type": "code",
   "execution_count": null,
   "metadata": {},
   "outputs": [],
   "source": [
    "from sklearn.model_selection import train_test_split\n",
    "\n",
    "# Assuming features and Y are your dataframes\n",
    "\n",
    "# Split the data\n",
    "x_train, x_test, y_train, y_test = train_test_split(features, Y, test_size=0.2, random_state=1)\n",
    "\n",
    "# Output to confirm the split\n",
    "print(\"Training and testing data split successfully.\")"
   ]
  },
  {
   "cell_type": "code",
   "execution_count": null,
   "metadata": {},
   "outputs": [],
   "source": [
    "#Enter Your Code, Execute and take the Screfrom sklearn.linear_model import LogisticRegression\n",
    "\n",
    "# Assuming X_train and Y_train are already defined\n",
    "\n",
    "# Creating Logistic Regression model with solver set to 'liblinear'\n",
    "LR = LogisticRegression(solver='liblinear')\n",
    "\n",
    "# Training the model\n",
    "LR.fit(X_train, Y_train)\n",
    "# Output to confirm the training\n",
    "print(\"Logistic Regression model training completed successfully.\")"
   ]
  },
  {
   "cell_type": "code",
   "execution_count": null,
   "metadata": {},
   "outputs": [],
   "source": [
    "#Enter Your Code, Execute an# Assuming LR model is already trained and X_test is available\n",
    "\n",
    "# Using the trained model to make predictions\n",
    "predictions =  LR.predict(X_test)\n",
    "predict_proba =  LR.predict_proba(X_test)\n",
    "# Output to confirm the prediction and probabilities\n",
    "print(\"Predictions and probabilities generated successfully.\")"
   ]
  },
  {
   "cell_type": "code",
   "execution_count": null,
   "metadata": {},
   "outputs": [],
   "source": [
    "#Enter Your Code, Execute from sklearn.metrics import accuracy_score, precision_score, recall_score, f1_score, roc_auc_score\n",
    "\n",
    "# Assuming Y_test is the true labels\n",
    "\n",
    "# Calculate accuracy\n",
    "accuracy = accuracy_score(Y_test, predictions)\n",
    "\n",
    "# Calculate precision\n",
    "precision = precision_score(Y_test, predictions)\n",
    "\n",
    "# Calculate recall\n",
    "recall = recall_score(Y_test, predictions)\n",
    "\n",
    "# Calculate F1-score\n",
    "f1 = f1_score(Y_test, predictions)\n",
    "\n",
    "# Calculate ROC AUC score\n",
    "roc_auc = roc_auc_score(Y_test, predict_proba[:, 1])  # Use probabilities of the positive class\n",
    " # Output the results\n",
    "print(\"Accuracy:\", accuracy)\n",
    "print(\"Precision:\", precision)\n",
    "print(\"Recall:\", recall)\n",
    "print(\"F1-score:\", f1)\n",
    "print(\"ROC AUC score:\", roc_auc)"
   ]
  },
  {
   "cell_type": "code",
   "execution_count": null,
   "metadata": {},
   "outputs": [],
   "source": [
    "#Enter Your Code Below,from sklearn.svm import SVC\n",
    "\n",
    "# Assuming X_train and Y_train are already defined\n",
    "\n",
    "# Creating SVM model\n",
    "SVM = SVM = SVC()\n",
    "\n",
    "# Training the model\n",
    "SVM.fit(X_train, Y_train)\n",
    "\n",
    "# Output to confirm the training\n",
    "print(\"SVM model training completed successfully.\") "
   ]
  },
  {
   "cell_type": "code",
   "execution_count": null,
   "metadata": {},
   "outputs": [],
   "source": [
    "#Enter Your Code Below, Execute\n",
    "# Assuming SVM model is already trained and X_test is available\n",
    "\n",
    "# Using the trained model to make predictions\n",
    "predictions = predictions = SVM.predict(X_test)\n",
    "\n",
    "# Output to confirm the prediction\n",
    "print(\"Predictions made successfully.\")"
   ]
  },
  {
   "cell_type": "code",
   "execution_count": null,
   "metadata": {},
   "outputs": [],
   "source": [
    "from sklearn.metrics import accuracy_score, precision_score, recall_score, f1_score\n",
    "\n",
    "# Calculate accuracy\n",
    "accuracy = accuracy_score(Y_test, predictions)\n",
    "\n",
    "# Calculate precision\n",
    "precision = precision_score(Y_test, predictions)\n",
    "\n",
    "# Calculate recall\n",
    "recall = recall_score(Y_test, predictions)\n",
    "\n",
    "# Calculate F1-score\n",
    "f1 = f1_score(Y_test, predictions)\n",
    "\n",
    "# Output the results\n",
    "print(\"Accuracy:\", accuracy)\n",
    "print(\"Precision:\", precision)\n",
    "print(\"Recall:\", recall)\n",
    "print(\"F1-score:\", f1)"
   ]
  },
  {
   "cell_type": "code",
   "execution_count": null,
   "metadata": {},
   "outputs": [],
   "source": [
    "# Assuming predictions and Y_test are available for all models\n",
    "\n",
    "# Calculate metrics for each model\n",
    "metrics_data = {\n",
    "    'Model': ['Linear Regression', 'KNN', 'Decision Tree', 'Logistic Regression', 'SVM'],\n",
    "    'Accuracy': [accuracy_score(Y_test_lr, predictions_lr),\n",
    "                 accuracy_score(Y_test_knn, predictions_knn),\n",
    "                 accuracy_score(Y_test_tree, predictions_tree),\n",
    "                 accuracy_score(Y_test_lr, predictions_lr),\n",
    "                 accuracy_score(Y_test_svm, predictions_svm)],\n",
    "    'Jaccard Index': [jaccard_score(Y_test_lr, predictions_lr),\n",
    "                      jaccard_score(Y_test_knn, predictions_knn),\n",
    "                      jaccard_score(Y_test_tree, predictions_tree),\n",
    "                      jaccard_score(Y_test_lr, predictions_lr),\n",
    "                      jaccard_score(Y_test_svm, predictions_svm)],\n",
    "    'F1-Score': [f1_score(Y_test_lr, predictions_lr),\n",
    "                 f1_score(Y_test_knn, predictions_knn),\n",
    "                 f1_score(Y_test_tree, predictions_tree),\n",
    "                 f1_score(Y_test_lr, predictions_lr),\n",
    "                 f1_score(Y_test_svm, predictions_svm)],\n",
    "    'LogLoss': ['NA', 'NA', 'NA', log_loss(Y_test_lr, predictions_proba_lr),\n",
    "                'NA']\n",
    "}\n",
    "\n",
    "# Create DataFrame\n",
    "metrics_df = pd.DataFrame(metrics_data)\n",
    "\n",
    "# Output the results\n",
    "print(metrics_df)"
   ]
  }
 ],
 "metadata": {
  "language_info": {
   "name": "python"
  }
 },
 "nbformat": 4,
 "nbformat_minor": 2
}
